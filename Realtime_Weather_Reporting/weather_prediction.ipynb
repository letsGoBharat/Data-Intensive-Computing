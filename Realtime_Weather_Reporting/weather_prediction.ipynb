{
 "cells": [
  {
   "cell_type": "markdown",
   "metadata": {},
   "source": [
    "# Weather Prediction"
   ]
  },
  {
   "cell_type": "code",
   "execution_count": 26,
   "metadata": {},
   "outputs": [],
   "source": [
    "import findspark\n",
    "from pyspark.sql import SparkSession\n",
    "from pyspark.sql.types import IntegerType\n",
    "from pyspark.sql.types import FloatType\n",
    "from pyspark.ml.feature import VectorAssembler\n",
    "import pandas as pd\n",
    "from pyspark.ml.classification import MultilayerPerceptronClassifier\n",
    "from pyspark.ml.evaluation import MulticlassClassificationEvaluator\n",
    "from pyspark.sql import functions as F\n",
    "from pyspark.ml.regression import LinearRegression"
   ]
  },
  {
   "cell_type": "code",
   "execution_count": 27,
   "metadata": {},
   "outputs": [],
   "source": [
    "spark = SparkSession.builder.appName('weather').getOrCreate()"
   ]
  },
  {
   "cell_type": "code",
   "execution_count": 28,
   "metadata": {},
   "outputs": [],
   "source": [
    "df = spark.read.csv('weather-data.csv')"
   ]
  },
  {
   "cell_type": "code",
   "execution_count": 29,
   "metadata": {},
   "outputs": [],
   "source": [
    "#change column names to resemble content\n",
    "df = df.withColumnRenamed('_c0', \"timestamp\")\\\n",
    "        .withColumnRenamed('_c1', \"temp\")\\\n",
    "        .withColumnRenamed('_c2', \"feels_like\")\\\n",
    "        .withColumnRenamed('_c3', \"pressure\")\\\n",
    "        .withColumnRenamed('_c4', \"humidity\")\\\n",
    "        .withColumnRenamed('_c5', \"dew_point\")\\\n",
    "        .withColumnRenamed('_c6', \"clouds\")\\\n",
    "        .withColumnRenamed('_c7', \"visibility\")\\\n",
    "        .withColumnRenamed('_c8', \"wind_speed\")\\\n",
    "        .withColumnRenamed('_c9', \"wind_deg\")\\\n",
    "        .withColumnRenamed('_c10', \"weather\")\\\n",
    "        .withColumnRenamed('_c11', \"pop\")"
   ]
  },
  {
   "cell_type": "code",
   "execution_count": 30,
   "metadata": {
    "scrolled": false
   },
   "outputs": [
    {
     "name": "stdout",
     "output_type": "stream",
     "text": [
      "+----------+------+----------+--------+--------+---------+------+----------+----------+--------+--------------------+---+\n",
      "| timestamp|  temp|feels_like|pressure|humidity|dew_point|clouds|visibility|wind_speed|wind_deg|             weather|pop|\n",
      "+----------+------+----------+--------+--------+---------+------+----------+----------+--------+--------------------+---+\n",
      "|1603123200|277.05|    271.63|    1012|      55|   269.33|    29|     10000|      4.12|     317|[{'id': 802, 'mai...|  0|\n",
      "|1603126800|276.81|    271.75|    1012|      63|   270.74|    32|     10000|      3.87|     326|[{'id': 802, 'mai...|  0|\n",
      "|1603130400|276.37|    271.61|    1014|      70|   271.63|    42|     10000|      3.62|     329|[{'id': 802, 'mai...|  0|\n",
      "|1603134000|275.99|    271.33|    1015|      74|   271.98|    94|     10000|      3.56|     320|[{'id': 804, 'mai...|  0|\n",
      "|1603137600|275.53|    270.85|    1015|      78|   272.22|    86|     10000|      3.64|     317|[{'id': 804, 'mai...|  0|\n",
      "|1603141200|275.12|    270.45|    1016|      81|   269.45|    58|     10000|      3.64|     317|[{'id': 803, 'mai...|  0|\n",
      "|1603144800|274.73|    270.15|    1017|      84|   269.82|    47|     10000|      3.54|     322|[{'id': 802, 'mai...|  0|\n",
      "|1603148400| 274.4|    269.99|    1017|      86|   270.14|    56|     10000|      3.29|     326|[{'id': 803, 'mai...|  0|\n",
      "|1603152000|274.14|    270.11|    1018|      88|   270.39|    63|     10000|      2.76|     322|[{'id': 803, 'mai...|  0|\n",
      "|1603155600|274.02|    270.04|    1018|      89|    270.6|   100|     10000|       2.7|     307|[{'id': 804, 'mai...|  0|\n",
      "|1603123200|277.05|    271.63|    1012|      55|   269.33|    29|     10000|      4.12|     317|[{'id': 802, 'mai...|  0|\n",
      "|1603126800|276.81|    271.75|    1012|      63|   270.74|    32|     10000|      3.87|     326|[{'id': 802, 'mai...|  0|\n",
      "|1603130400|276.37|    271.61|    1014|      70|   271.63|    42|     10000|      3.62|     329|[{'id': 802, 'mai...|  0|\n",
      "|1603134000|275.99|    271.33|    1015|      74|   271.98|    94|     10000|      3.56|     320|[{'id': 804, 'mai...|  0|\n",
      "|1603137600|275.53|    270.85|    1015|      78|   272.22|    86|     10000|      3.64|     317|[{'id': 804, 'mai...|  0|\n",
      "|1603141200|275.12|    270.45|    1016|      81|   269.45|    58|     10000|      3.64|     317|[{'id': 803, 'mai...|  0|\n",
      "|1603144800|274.73|    270.15|    1017|      84|   269.82|    47|     10000|      3.54|     322|[{'id': 802, 'mai...|  0|\n",
      "|1603148400| 274.4|    269.99|    1017|      86|   270.14|    56|     10000|      3.29|     326|[{'id': 803, 'mai...|  0|\n",
      "|1603152000|274.14|    270.11|    1018|      88|   270.39|    63|     10000|      2.76|     322|[{'id': 803, 'mai...|  0|\n",
      "|1603155600|274.02|    270.04|    1018|      89|    270.6|   100|     10000|       2.7|     307|[{'id': 804, 'mai...|  0|\n",
      "+----------+------+----------+--------+--------+---------+------+----------+----------+--------+--------------------+---+\n",
      "only showing top 20 rows\n",
      "\n"
     ]
    }
   ],
   "source": [
    "df.show()"
   ]
  },
  {
   "cell_type": "code",
   "execution_count": 31,
   "metadata": {},
   "outputs": [],
   "source": [
    "# import pyspark.sql.functions as f\n",
    "# df_split = df.select(f.split(df.weather,\":\")).rdd.flatMap(\n",
    "#               lambda x: x).toDF(schema=[\"col1\",\"col2\",\"col3\"])"
   ]
  },
  {
   "cell_type": "code",
   "execution_count": 32,
   "metadata": {},
   "outputs": [],
   "source": [
    "#change column values to correct format - cast to float or integer\n",
    "df = df.withColumn(\"temp\", df[\"temp\"].cast(FloatType()))\n",
    "df = df.withColumn(\"feels_like\", df[\"feels_like\"].cast(FloatType()))\n",
    "df = df.withColumn(\"pressure\", df[\"pressure\"].cast(IntegerType()))\n",
    "df = df.withColumn(\"humidity\", df[\"humidity\"].cast(IntegerType()))\n",
    "df = df.withColumn(\"dew_point\", df[\"dew_point\"].cast(FloatType()))\n",
    "df = df.withColumn(\"clouds\", df[\"clouds\"].cast(IntegerType()))\n",
    "df = df.withColumn(\"visibility\", df[\"visibility\"].cast(IntegerType()))\n",
    "df = df.withColumn(\"wind_speed\", df[\"wind_speed\"].cast(FloatType()))\n",
    "df = df.withColumn(\"wind_deg\", df[\"wind_deg\"].cast(IntegerType()))\n",
    "df = df.withColumn(\"weather\", df[\"weather\"].cast(IntegerType()))\n",
    "df = df.withColumn(\"pop\", df[\"pop\"].cast(FloatType()))"
   ]
  },
  {
   "cell_type": "code",
   "execution_count": 33,
   "metadata": {},
   "outputs": [
    {
     "name": "stdout",
     "output_type": "stream",
     "text": [
      "root\n",
      " |-- timestamp: string (nullable = true)\n",
      " |-- temp: float (nullable = true)\n",
      " |-- feels_like: float (nullable = true)\n",
      " |-- pressure: integer (nullable = true)\n",
      " |-- humidity: integer (nullable = true)\n",
      " |-- dew_point: float (nullable = true)\n",
      " |-- clouds: integer (nullable = true)\n",
      " |-- visibility: integer (nullable = true)\n",
      " |-- wind_speed: float (nullable = true)\n",
      " |-- wind_deg: integer (nullable = true)\n",
      " |-- weather: integer (nullable = true)\n",
      " |-- pop: float (nullable = true)\n",
      "\n"
     ]
    }
   ],
   "source": [
    "df.printSchema()"
   ]
  },
  {
   "cell_type": "markdown",
   "metadata": {},
   "source": [
    "# Linear Regression"
   ]
  },
  {
   "cell_type": "markdown",
   "metadata": {},
   "source": [
    "### How does the temperature feel given the features pressure, humidity, dew_point, clouds, visibility and wind_speed?"
   ]
  },
  {
   "cell_type": "code",
   "execution_count": 34,
   "metadata": {},
   "outputs": [
    {
     "data": {
      "text/plain": [
       "['pressure', 'humidity', 'dew_point', 'clouds', 'visibility', 'wind_speed']"
      ]
     },
     "execution_count": 34,
     "metadata": {},
     "output_type": "execute_result"
    }
   ],
   "source": [
    "# select feature columns\n",
    "feature_columns = df.columns[3:9] \n",
    "feature_columns"
   ]
  },
  {
   "cell_type": "code",
   "execution_count": 35,
   "metadata": {},
   "outputs": [],
   "source": [
    "# necessary to assemble all feats in one vector\n",
    "assembler = VectorAssembler(inputCols=feature_columns,outputCol=\"features\")"
   ]
  },
  {
   "cell_type": "code",
   "execution_count": 36,
   "metadata": {},
   "outputs": [
    {
     "name": "stdout",
     "output_type": "stream",
     "text": [
      "+----------+\n",
      "|feels_like|\n",
      "+----------+\n",
      "|    271.16|\n",
      "|    271.16|\n",
      "|    271.16|\n",
      "|    271.16|\n",
      "|    271.63|\n",
      "|    271.63|\n",
      "|    271.63|\n",
      "|    271.63|\n",
      "|    271.63|\n",
      "|     271.5|\n",
      "|     271.5|\n",
      "|    271.75|\n",
      "|    271.75|\n",
      "|    271.75|\n",
      "|    271.75|\n",
      "|    271.49|\n",
      "|    271.49|\n",
      "|    271.49|\n",
      "|    271.49|\n",
      "|    271.49|\n",
      "+----------+\n",
      "only showing top 20 rows\n",
      "\n"
     ]
    }
   ],
   "source": [
    "data = assembler.transform(df)\n",
    "# train/test split\n",
    "train, test = data.randomSplit([0.7, 0.3])\n",
    "# train the model\n",
    "lr = LinearRegression(featuresCol=\"features\", labelCol=\"feels_like\")\n",
    "model = lr.fit(train)\n",
    "# evaluate the model\n",
    "evaluation = model.evaluate(test)\n",
    "\n",
    "# predicting on test set\n",
    "predictions = model.transform(test)\n",
    "predictions.select(predictions.columns[2]).show()"
   ]
  },
  {
   "cell_type": "code",
   "execution_count": 37,
   "metadata": {},
   "outputs": [
    {
     "data": {
      "text/plain": [
       "0.3196993656625901"
      ]
     },
     "execution_count": 37,
     "metadata": {},
     "output_type": "execute_result"
    }
   ],
   "source": [
    "evaluation.meanAbsoluteError"
   ]
  },
  {
   "cell_type": "code",
   "execution_count": 38,
   "metadata": {},
   "outputs": [
    {
     "data": {
      "text/plain": [
       "0.4282179049833272"
      ]
     },
     "execution_count": 38,
     "metadata": {},
     "output_type": "execute_result"
    }
   ],
   "source": [
    "evaluation.rootMeanSquaredError"
   ]
  },
  {
   "cell_type": "code",
   "execution_count": 39,
   "metadata": {
    "scrolled": false
   },
   "outputs": [
    {
     "data": {
      "text/plain": [
       "0.9848431164922864"
      ]
     },
     "execution_count": 39,
     "metadata": {},
     "output_type": "execute_result"
    }
   ],
   "source": [
    "evaluation.r2"
   ]
  },
  {
   "cell_type": "code",
   "execution_count": 40,
   "metadata": {},
   "outputs": [
    {
     "name": "stdout",
     "output_type": "stream",
     "text": [
      "+----------+------+----------+--------+--------+---------+------+----------+----------+--------+-------+---+\n",
      "| timestamp|  temp|feels_like|pressure|humidity|dew_point|clouds|visibility|wind_speed|wind_deg|weather|pop|\n",
      "+----------+------+----------+--------+--------+---------+------+----------+----------+--------+-------+---+\n",
      "|1603123200|277.05|    271.63|    1012|      55|   269.33|    29|     10000|      4.12|     317|   null|0.0|\n",
      "|1603126800|276.81|    271.75|    1012|      63|   270.74|    32|     10000|      3.87|     326|   null|0.0|\n",
      "|1603130400|276.37|    271.61|    1014|      70|   271.63|    42|     10000|      3.62|     329|   null|0.0|\n",
      "|1603134000|275.99|    271.33|    1015|      74|   271.98|    94|     10000|      3.56|     320|   null|0.0|\n",
      "|1603137600|275.53|    270.85|    1015|      78|   272.22|    86|     10000|      3.64|     317|   null|0.0|\n",
      "|1603141200|275.12|    270.45|    1016|      81|   269.45|    58|     10000|      3.64|     317|   null|0.0|\n",
      "|1603144800|274.73|    270.15|    1017|      84|   269.82|    47|     10000|      3.54|     322|   null|0.0|\n",
      "|1603148400| 274.4|    269.99|    1017|      86|   270.14|    56|     10000|      3.29|     326|   null|0.0|\n",
      "|1603152000|274.14|    270.11|    1018|      88|   270.39|    63|     10000|      2.76|     322|   null|0.0|\n",
      "|1603155600|274.02|    270.04|    1018|      89|    270.6|   100|     10000|       2.7|     307|   null|0.0|\n",
      "|1603123200|277.05|    271.63|    1012|      55|   269.33|    29|     10000|      4.12|     317|   null|0.0|\n",
      "|1603126800|276.81|    271.75|    1012|      63|   270.74|    32|     10000|      3.87|     326|   null|0.0|\n",
      "|1603130400|276.37|    271.61|    1014|      70|   271.63|    42|     10000|      3.62|     329|   null|0.0|\n",
      "|1603134000|275.99|    271.33|    1015|      74|   271.98|    94|     10000|      3.56|     320|   null|0.0|\n",
      "|1603137600|275.53|    270.85|    1015|      78|   272.22|    86|     10000|      3.64|     317|   null|0.0|\n",
      "|1603141200|275.12|    270.45|    1016|      81|   269.45|    58|     10000|      3.64|     317|   null|0.0|\n",
      "|1603144800|274.73|    270.15|    1017|      84|   269.82|    47|     10000|      3.54|     322|   null|0.0|\n",
      "|1603148400| 274.4|    269.99|    1017|      86|   270.14|    56|     10000|      3.29|     326|   null|0.0|\n",
      "|1603152000|274.14|    270.11|    1018|      88|   270.39|    63|     10000|      2.76|     322|   null|0.0|\n",
      "|1603155600|274.02|    270.04|    1018|      89|    270.6|   100|     10000|       2.7|     307|   null|0.0|\n",
      "+----------+------+----------+--------+--------+---------+------+----------+----------+--------+-------+---+\n",
      "only showing top 20 rows\n",
      "\n"
     ]
    }
   ],
   "source": [
    "df.show()"
   ]
  },
  {
   "cell_type": "markdown",
   "metadata": {},
   "source": [
    "# Multilayer Perceptron Classifier"
   ]
  },
  {
   "cell_type": "markdown",
   "metadata": {},
   "source": [
    "### Is the probability of rain high, medium or low?"
   ]
  },
  {
   "cell_type": "code",
   "execution_count": 41,
   "metadata": {},
   "outputs": [],
   "source": [
    "# bin values in 3 label classes: 2-high, 1-medium, 0-low\n",
    "df = df.withColumn(\n",
    "    'label',\n",
    "    F.when((F.col(\"pop\") >= 0.7), 2)\\\n",
    "    .when((F.col(\"pop\") < 0.7) & (F.col('pop') > 0.3), 1)\\\n",
    "    .when((F.col(\"pop\") <= 0.3), 0)\n",
    ")"
   ]
  },
  {
   "cell_type": "code",
   "execution_count": 42,
   "metadata": {
    "scrolled": true
   },
   "outputs": [
    {
     "name": "stdout",
     "output_type": "stream",
     "text": [
      "+----------+------+----------+--------+--------+---------+------+----------+----------+--------+-------+---+-----+\n",
      "| timestamp|  temp|feels_like|pressure|humidity|dew_point|clouds|visibility|wind_speed|wind_deg|weather|pop|label|\n",
      "+----------+------+----------+--------+--------+---------+------+----------+----------+--------+-------+---+-----+\n",
      "|1603123200|277.05|    271.63|    1012|      55|   269.33|    29|     10000|      4.12|     317|   null|0.0|    0|\n",
      "|1603126800|276.81|    271.75|    1012|      63|   270.74|    32|     10000|      3.87|     326|   null|0.0|    0|\n",
      "|1603130400|276.37|    271.61|    1014|      70|   271.63|    42|     10000|      3.62|     329|   null|0.0|    0|\n",
      "|1603134000|275.99|    271.33|    1015|      74|   271.98|    94|     10000|      3.56|     320|   null|0.0|    0|\n",
      "|1603137600|275.53|    270.85|    1015|      78|   272.22|    86|     10000|      3.64|     317|   null|0.0|    0|\n",
      "|1603141200|275.12|    270.45|    1016|      81|   269.45|    58|     10000|      3.64|     317|   null|0.0|    0|\n",
      "|1603144800|274.73|    270.15|    1017|      84|   269.82|    47|     10000|      3.54|     322|   null|0.0|    0|\n",
      "|1603148400| 274.4|    269.99|    1017|      86|   270.14|    56|     10000|      3.29|     326|   null|0.0|    0|\n",
      "|1603152000|274.14|    270.11|    1018|      88|   270.39|    63|     10000|      2.76|     322|   null|0.0|    0|\n",
      "|1603155600|274.02|    270.04|    1018|      89|    270.6|   100|     10000|       2.7|     307|   null|0.0|    0|\n",
      "|1603123200|277.05|    271.63|    1012|      55|   269.33|    29|     10000|      4.12|     317|   null|0.0|    0|\n",
      "|1603126800|276.81|    271.75|    1012|      63|   270.74|    32|     10000|      3.87|     326|   null|0.0|    0|\n",
      "|1603130400|276.37|    271.61|    1014|      70|   271.63|    42|     10000|      3.62|     329|   null|0.0|    0|\n",
      "|1603134000|275.99|    271.33|    1015|      74|   271.98|    94|     10000|      3.56|     320|   null|0.0|    0|\n",
      "|1603137600|275.53|    270.85|    1015|      78|   272.22|    86|     10000|      3.64|     317|   null|0.0|    0|\n",
      "|1603141200|275.12|    270.45|    1016|      81|   269.45|    58|     10000|      3.64|     317|   null|0.0|    0|\n",
      "|1603144800|274.73|    270.15|    1017|      84|   269.82|    47|     10000|      3.54|     322|   null|0.0|    0|\n",
      "|1603148400| 274.4|    269.99|    1017|      86|   270.14|    56|     10000|      3.29|     326|   null|0.0|    0|\n",
      "|1603152000|274.14|    270.11|    1018|      88|   270.39|    63|     10000|      2.76|     322|   null|0.0|    0|\n",
      "|1603155600|274.02|    270.04|    1018|      89|    270.6|   100|     10000|       2.7|     307|   null|0.0|    0|\n",
      "+----------+------+----------+--------+--------+---------+------+----------+----------+--------+-------+---+-----+\n",
      "only showing top 20 rows\n",
      "\n"
     ]
    }
   ],
   "source": [
    "df.show()"
   ]
  },
  {
   "cell_type": "code",
   "execution_count": 43,
   "metadata": {},
   "outputs": [],
   "source": [
    "#select features and assemble\n",
    "feature_columns = df.columns[1:10] \n",
    "assembler = VectorAssembler(inputCols=feature_columns,outputCol=\"features\")"
   ]
  },
  {
   "cell_type": "code",
   "execution_count": 63,
   "metadata": {},
   "outputs": [
    {
     "data": {
      "text/plain": [
       "['temp',\n",
       " 'feels_like',\n",
       " 'pressure',\n",
       " 'humidity',\n",
       " 'dew_point',\n",
       " 'clouds',\n",
       " 'visibility',\n",
       " 'wind_speed',\n",
       " 'wind_deg']"
      ]
     },
     "execution_count": 63,
     "metadata": {},
     "output_type": "execute_result"
    }
   ],
   "source": [
    "feature_columns"
   ]
  },
  {
   "cell_type": "code",
   "execution_count": 44,
   "metadata": {},
   "outputs": [],
   "source": [
    "data2 = assembler.transform(df)"
   ]
  },
  {
   "cell_type": "code",
   "execution_count": 53,
   "metadata": {},
   "outputs": [],
   "source": [
    "from pyspark.sql.functions import rand \n"
   ]
  },
  {
   "cell_type": "code",
   "execution_count": 54,
   "metadata": {},
   "outputs": [],
   "source": [
    "data2 = data2.orderBy(rand())"
   ]
  },
  {
   "cell_type": "code",
   "execution_count": 77,
   "metadata": {},
   "outputs": [
    {
     "name": "stdout",
     "output_type": "stream",
     "text": [
      "Test accuracy = 0.5838621940163191\n"
     ]
    }
   ],
   "source": [
    "seed = 500\n",
    "iterations = 100\n",
    "\n",
    "# train/test split\n",
    "splits = data2.randomSplit([0.8, 0.2], seed)\n",
    "train = splits[0]\n",
    "test = splits[1]\n",
    "\n",
    "# layers for neural network (input, hidden1, hidden2, output)\n",
    "layers = [9, 8, 5, 3]\n",
    "\n",
    "# train the model\n",
    "mlp = MultilayerPerceptronClassifier(labelCol=\"label\", featuresCol=\"features\", maxIter=iterations, layers=layers, blockSize=128, seed=seed)\n",
    "model = mlp.fit(train)\n",
    "\n",
    "# compute test set accuracy\n",
    "result = model.transform(test)\n",
    "predictionAndLabels = result.select(\"prediction\", \"label\")\n",
    "evaluator = MulticlassClassificationEvaluator(metricName=\"accuracy\")\n",
    "print(\"Test accuracy = \" + str(evaluator.evaluate(predictionAndLabels)))"
   ]
  },
  {
   "cell_type": "code",
   "execution_count": null,
   "metadata": {},
   "outputs": [],
   "source": []
  }
 ],
 "metadata": {
  "kernelspec": {
   "display_name": "Python 3",
   "language": "python",
   "name": "python3"
  },
  "language_info": {
   "codemirror_mode": {
    "name": "ipython",
    "version": 3
   },
   "file_extension": ".py",
   "mimetype": "text/x-python",
   "name": "python",
   "nbconvert_exporter": "python",
   "pygments_lexer": "ipython3",
   "version": "3.6.9"
  }
 },
 "nbformat": 4,
 "nbformat_minor": 4
}
