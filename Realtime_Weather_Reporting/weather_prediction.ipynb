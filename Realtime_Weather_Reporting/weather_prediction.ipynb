{
 "cells": [
  {
   "cell_type": "code",
   "execution_count": 1,
   "metadata": {},
   "outputs": [],
   "source": [
    "import findspark\n",
    "from pyspark.sql import SparkSession\n",
    "from pyspark.sql.types import IntegerType\n",
    "from pyspark.sql.types import FloatType\n",
    "from pyspark.ml.feature import VectorAssembler\n",
    "import pandas as pd\n",
    "from pyspark.ml.classification import MultilayerPerceptronClassifier\n",
    "from pyspark.ml.evaluation import MulticlassClassificationEvaluator\n",
    "from pyspark.sql import functions as F\n",
    "\n"
   ]
  },
  {
   "cell_type": "code",
   "execution_count": 2,
   "metadata": {},
   "outputs": [],
   "source": [
    "spark = SparkSession.builder.appName('weather').getOrCreate()"
   ]
  },
  {
   "cell_type": "code",
   "execution_count": 3,
   "metadata": {},
   "outputs": [],
   "source": [
    "df = spark.read.csv('weather-data.csv')"
   ]
  },
  {
   "cell_type": "code",
   "execution_count": 4,
   "metadata": {},
   "outputs": [],
   "source": [
    "df = df.withColumnRenamed('_c0', \"timestamp\")\\\n",
    "        .withColumnRenamed('_c1', \"temp\")\\\n",
    "        .withColumnRenamed('_c2', \"feels_like\")\\\n",
    "        .withColumnRenamed('_c3', \"pressure\")\\\n",
    "        .withColumnRenamed('_c4', \"humidity\")\\\n",
    "        .withColumnRenamed('_c5', \"dew_point\")\\\n",
    "        .withColumnRenamed('_c6', \"clouds\")\\\n",
    "        .withColumnRenamed('_c7', \"visibility\")\\\n",
    "        .withColumnRenamed('_c8', \"wind_speed\")\\\n",
    "        .withColumnRenamed('_c9', \"wind_deg\")\\\n",
    "        .withColumnRenamed('_c10', \"weather\")\\\n",
    "        .withColumnRenamed('_c11', \"pop\")"
   ]
  },
  {
   "cell_type": "code",
   "execution_count": 5,
   "metadata": {
    "scrolled": false
   },
   "outputs": [
    {
     "name": "stdout",
     "output_type": "stream",
     "text": [
      "+----------+------+----------+--------+--------+---------+------+----------+----------+--------+--------------------+----+\n",
      "| timestamp|  temp|feels_like|pressure|humidity|dew_point|clouds|visibility|wind_speed|wind_deg|             weather| pop|\n",
      "+----------+------+----------+--------+--------+---------+------+----------+----------+--------+--------------------+----+\n",
      "|1603548000|281.41|    277.26|    1000|     100|   281.41|    90|     10000|      5.35|     260|[{'id': 804, 'mai...|0.44|\n",
      "|1603551600|281.29|    276.56|    1001|      94|   280.38|    88|     10000|      5.84|     279|[{'id': 804, 'mai...|0.43|\n",
      "|1603555200|280.56|    275.78|    1002|      91|   279.19|    88|     10000|      5.53|     295|[{'id': 804, 'mai...|0.37|\n",
      "|1603558800|279.71|    275.34|    1004|      88|   277.87|    86|     10000|      4.55|     296|[{'id': 804, 'mai...|0.35|\n",
      "|1603562400|278.72|    274.78|    1005|      91|   277.37|    85|     10000|      3.81|     300|[{'id': 804, 'mai...|0.32|\n",
      "|1603566000|278.13|    274.63|    1005|      92|   277.08|    45|     10000|      3.06|     305|[{'id': 802, 'mai...|   0|\n",
      "|1603569600|277.94|    275.11|    1006|      93|   276.96|    48|     10000|       2.1|     300|[{'id': 802, 'mai...|   0|\n",
      "|1603573200|277.85|    275.18|    1006|      93|   276.84|    51|     10000|      1.84|     291|[{'id': 803, 'mai...|   0|\n",
      "|1603576800|277.91|    275.43|    1007|      92|   276.76|    53|     10000|      1.55|     288|[{'id': 803, 'mai...|   0|\n",
      "|1603580400|277.71|    275.72|    1008|      92|   276.54|    53|     10000|      0.79|     283|[{'id': 803, 'mai...|   0|\n",
      "|1603584000|277.29|    275.06|    1008|      92|   276.23|    49|     10000|      1.03|     239|[{'id': 802, 'mai...|   0|\n",
      "|1603587600|277.31|    274.86|    1008|      93|   276.28|   100|     10000|      1.39|     207|[{'id': 804, 'mai...|   0|\n",
      "|1603591200|277.26|     274.7|    1008|      92|   276.22|    97|     10000|       1.5|     184|[{'id': 804, 'mai...|   0|\n",
      "|1603594800| 277.3|    274.55|    1008|      92|   276.23|    69|     10000|      1.77|     167|[{'id': 803, 'mai...|   0|\n",
      "|1603598400|277.82|    274.89|    1008|      93|    276.8|    76|     10000|      2.21|     161|[{'id': 803, 'mai...|   0|\n",
      "|1603602000|279.06|     275.8|    1008|      93|   278.11|    81|     10000|      3.01|     169|[{'id': 803, 'mai...|   0|\n",
      "|1603605600|280.06|    276.92|    1007|      94|   279.17|    84|     10000|      3.18|     166|[{'id': 803, 'mai...|   0|\n",
      "|1603609200|280.97|    277.47|    1007|      91|   279.72|   100|     10000|      3.83|     173|[{'id': 804, 'mai...|   0|\n",
      "|1603612800|282.02|    278.06|    1007|      85|   279.76|   100|     10000|       4.5|     176|[{'id': 804, 'mai...|   0|\n",
      "|1603616400|283.05|    278.91|    1007|      83|   280.33|   100|     10000|      4.97|     176|[{'id': 804, 'mai...|   0|\n",
      "+----------+------+----------+--------+--------+---------+------+----------+----------+--------+--------------------+----+\n",
      "only showing top 20 rows\n",
      "\n"
     ]
    }
   ],
   "source": [
    "df.show()"
   ]
  },
  {
   "cell_type": "code",
   "execution_count": 6,
   "metadata": {},
   "outputs": [],
   "source": [
    "# import pyspark.sql.functions as f\n",
    "# df_split = df.select(f.split(df.weather,\":\")).rdd.flatMap(\n",
    "#               lambda x: x).toDF(schema=[\"col1\",\"col2\",\"col3\"])"
   ]
  },
  {
   "cell_type": "code",
   "execution_count": 7,
   "metadata": {},
   "outputs": [],
   "source": [
    "df = df.withColumn(\"temp\", df[\"temp\"].cast(FloatType()))\n",
    "df = df.withColumn(\"feels_like\", df[\"feels_like\"].cast(FloatType()))\n",
    "df = df.withColumn(\"pressure\", df[\"pressure\"].cast(IntegerType()))\n",
    "df = df.withColumn(\"humidity\", df[\"humidity\"].cast(IntegerType()))\n",
    "df = df.withColumn(\"dew_point\", df[\"dew_point\"].cast(FloatType()))\n",
    "df = df.withColumn(\"clouds\", df[\"clouds\"].cast(IntegerType()))\n",
    "df = df.withColumn(\"visibility\", df[\"visibility\"].cast(IntegerType()))\n",
    "df = df.withColumn(\"wind_speed\", df[\"wind_speed\"].cast(FloatType()))\n",
    "df = df.withColumn(\"wind_deg\", df[\"wind_deg\"].cast(IntegerType()))\n",
    "df = df.withColumn(\"weather\", df[\"weather\"].cast(IntegerType()))\n",
    "df = df.withColumn(\"pop\", df[\"pop\"].cast(FloatType()))"
   ]
  },
  {
   "cell_type": "code",
   "execution_count": 8,
   "metadata": {},
   "outputs": [
    {
     "name": "stdout",
     "output_type": "stream",
     "text": [
      "root\n",
      " |-- timestamp: string (nullable = true)\n",
      " |-- temp: float (nullable = true)\n",
      " |-- feels_like: float (nullable = true)\n",
      " |-- pressure: integer (nullable = true)\n",
      " |-- humidity: integer (nullable = true)\n",
      " |-- dew_point: float (nullable = true)\n",
      " |-- clouds: integer (nullable = true)\n",
      " |-- visibility: integer (nullable = true)\n",
      " |-- wind_speed: float (nullable = true)\n",
      " |-- wind_deg: integer (nullable = true)\n",
      " |-- weather: integer (nullable = true)\n",
      " |-- pop: float (nullable = true)\n",
      "\n"
     ]
    }
   ],
   "source": [
    "df.printSchema()"
   ]
  },
  {
   "cell_type": "code",
   "execution_count": 9,
   "metadata": {},
   "outputs": [],
   "source": [
    "# dataset = pd.read_csv(\"weather-data.csv\")\n",
    "# dataset.head()"
   ]
  },
  {
   "cell_type": "markdown",
   "metadata": {},
   "source": [
    "# How does the temperature feel given the features pressure, humidity, dew_point, clouds, visibility and wind_speed?"
   ]
  },
  {
   "cell_type": "code",
   "execution_count": 10,
   "metadata": {},
   "outputs": [
    {
     "data": {
      "text/plain": [
       "['pressure', 'humidity', 'dew_point', 'clouds', 'visibility', 'wind_speed']"
      ]
     },
     "execution_count": 10,
     "metadata": {},
     "output_type": "execute_result"
    }
   ],
   "source": [
    "feature_columns = df.columns[3:9] \n",
    "feature_columns"
   ]
  },
  {
   "cell_type": "code",
   "execution_count": 11,
   "metadata": {},
   "outputs": [],
   "source": [
    "assembler = VectorAssembler(inputCols=feature_columns,outputCol=\"features\")"
   ]
  },
  {
   "cell_type": "code",
   "execution_count": 12,
   "metadata": {},
   "outputs": [
    {
     "name": "stdout",
     "output_type": "stream",
     "text": [
      "+----------+\n",
      "|feels_like|\n",
      "+----------+\n",
      "|    276.03|\n",
      "|    275.82|\n",
      "|    275.11|\n",
      "|    275.11|\n",
      "|    275.18|\n",
      "|    275.06|\n",
      "|    274.86|\n",
      "|     274.7|\n",
      "|     274.7|\n",
      "|     275.8|\n",
      "|    276.92|\n",
      "|    277.47|\n",
      "|    278.06|\n",
      "|    278.91|\n",
      "|    278.91|\n",
      "|    279.45|\n",
      "|    280.01|\n",
      "|    280.01|\n",
      "|    280.65|\n",
      "|    280.47|\n",
      "+----------+\n",
      "only showing top 20 rows\n",
      "\n"
     ]
    }
   ],
   "source": [
    "data_2 = assembler.transform(df)\n",
    "# train/test split\n",
    "train, test = data_2.randomSplit([0.7, 0.3])\n",
    "# define the model\n",
    "from pyspark.ml.regression import LinearRegression\n",
    "algo = LinearRegression(featuresCol=\"features\", labelCol=\"feels_like\")\n",
    "# train the model\n",
    "model = algo.fit(train)\n",
    "# evaluation\n",
    "evaluation_summary = model.evaluate(test)\n",
    "# predicting values\n",
    "predictions = model.transform(test)\n",
    "predictions.select(predictions.columns[2]).show()\n"
   ]
  },
  {
   "cell_type": "code",
   "execution_count": 13,
   "metadata": {},
   "outputs": [
    {
     "data": {
      "text/plain": [
       "0.058473163749247686"
      ]
     },
     "execution_count": 13,
     "metadata": {},
     "output_type": "execute_result"
    }
   ],
   "source": [
    "evaluation_summary.meanAbsoluteError"
   ]
  },
  {
   "cell_type": "code",
   "execution_count": 14,
   "metadata": {},
   "outputs": [
    {
     "data": {
      "text/plain": [
       "0.0705299882245731"
      ]
     },
     "execution_count": 14,
     "metadata": {},
     "output_type": "execute_result"
    }
   ],
   "source": [
    "evaluation_summary.rootMeanSquaredError"
   ]
  },
  {
   "cell_type": "code",
   "execution_count": 15,
   "metadata": {
    "scrolled": false
   },
   "outputs": [
    {
     "data": {
      "text/plain": [
       "0.9991539903214101"
      ]
     },
     "execution_count": 15,
     "metadata": {},
     "output_type": "execute_result"
    }
   ],
   "source": [
    "evaluation_summary.r2"
   ]
  },
  {
   "cell_type": "code",
   "execution_count": 16,
   "metadata": {},
   "outputs": [
    {
     "name": "stdout",
     "output_type": "stream",
     "text": [
      "+----------+------+----------+--------+--------+---------+------+----------+----------+--------+-------+----+\n",
      "| timestamp|  temp|feels_like|pressure|humidity|dew_point|clouds|visibility|wind_speed|wind_deg|weather| pop|\n",
      "+----------+------+----------+--------+--------+---------+------+----------+----------+--------+-------+----+\n",
      "|1603548000|281.41|    277.26|    1000|     100|   281.41|    90|     10000|      5.35|     260|   null|0.44|\n",
      "|1603551600|281.29|    276.56|    1001|      94|   280.38|    88|     10000|      5.84|     279|   null|0.43|\n",
      "|1603555200|280.56|    275.78|    1002|      91|   279.19|    88|     10000|      5.53|     295|   null|0.37|\n",
      "|1603558800|279.71|    275.34|    1004|      88|   277.87|    86|     10000|      4.55|     296|   null|0.35|\n",
      "|1603562400|278.72|    274.78|    1005|      91|   277.37|    85|     10000|      3.81|     300|   null|0.32|\n",
      "|1603566000|278.13|    274.63|    1005|      92|   277.08|    45|     10000|      3.06|     305|   null| 0.0|\n",
      "|1603569600|277.94|    275.11|    1006|      93|   276.96|    48|     10000|       2.1|     300|   null| 0.0|\n",
      "|1603573200|277.85|    275.18|    1006|      93|   276.84|    51|     10000|      1.84|     291|   null| 0.0|\n",
      "|1603576800|277.91|    275.43|    1007|      92|   276.76|    53|     10000|      1.55|     288|   null| 0.0|\n",
      "|1603580400|277.71|    275.72|    1008|      92|   276.54|    53|     10000|      0.79|     283|   null| 0.0|\n",
      "|1603584000|277.29|    275.06|    1008|      92|   276.23|    49|     10000|      1.03|     239|   null| 0.0|\n",
      "|1603587600|277.31|    274.86|    1008|      93|   276.28|   100|     10000|      1.39|     207|   null| 0.0|\n",
      "|1603591200|277.26|     274.7|    1008|      92|   276.22|    97|     10000|       1.5|     184|   null| 0.0|\n",
      "|1603594800| 277.3|    274.55|    1008|      92|   276.23|    69|     10000|      1.77|     167|   null| 0.0|\n",
      "|1603598400|277.82|    274.89|    1008|      93|    276.8|    76|     10000|      2.21|     161|   null| 0.0|\n",
      "|1603602000|279.06|     275.8|    1008|      93|   278.11|    81|     10000|      3.01|     169|   null| 0.0|\n",
      "|1603605600|280.06|    276.92|    1007|      94|   279.17|    84|     10000|      3.18|     166|   null| 0.0|\n",
      "|1603609200|280.97|    277.47|    1007|      91|   279.72|   100|     10000|      3.83|     173|   null| 0.0|\n",
      "|1603612800|282.02|    278.06|    1007|      85|   279.76|   100|     10000|       4.5|     176|   null| 0.0|\n",
      "|1603616400|283.05|    278.91|    1007|      83|   280.33|   100|     10000|      4.97|     176|   null| 0.0|\n",
      "+----------+------+----------+--------+--------+---------+------+----------+----------+--------+-------+----+\n",
      "only showing top 20 rows\n",
      "\n"
     ]
    }
   ],
   "source": [
    "df.show()"
   ]
  },
  {
   "cell_type": "markdown",
   "metadata": {},
   "source": [
    "# Multilayer Perceptron Classifier"
   ]
  },
  {
   "cell_type": "code",
   "execution_count": 17,
   "metadata": {},
   "outputs": [],
   "source": [
    "df = df.withColumn(\n",
    "    'label',\n",
    "    F.when((F.col(\"pop\") >= 0.7), 2)\\\n",
    "    .when((F.col(\"pop\") < 0.7) & (F.col('pop') > 0.3), 1)\\\n",
    "    .when((F.col(\"pop\") <= 0.3), 0)\n",
    ")"
   ]
  },
  {
   "cell_type": "code",
   "execution_count": 18,
   "metadata": {
    "scrolled": true
   },
   "outputs": [
    {
     "name": "stdout",
     "output_type": "stream",
     "text": [
      "+----------+------+----------+--------+--------+---------+------+----------+----------+--------+-------+----+-----+\n",
      "| timestamp|  temp|feels_like|pressure|humidity|dew_point|clouds|visibility|wind_speed|wind_deg|weather| pop|label|\n",
      "+----------+------+----------+--------+--------+---------+------+----------+----------+--------+-------+----+-----+\n",
      "|1603548000|281.41|    277.26|    1000|     100|   281.41|    90|     10000|      5.35|     260|   null|0.44|    1|\n",
      "|1603551600|281.29|    276.56|    1001|      94|   280.38|    88|     10000|      5.84|     279|   null|0.43|    1|\n",
      "|1603555200|280.56|    275.78|    1002|      91|   279.19|    88|     10000|      5.53|     295|   null|0.37|    1|\n",
      "|1603558800|279.71|    275.34|    1004|      88|   277.87|    86|     10000|      4.55|     296|   null|0.35|    1|\n",
      "|1603562400|278.72|    274.78|    1005|      91|   277.37|    85|     10000|      3.81|     300|   null|0.32|    1|\n",
      "|1603566000|278.13|    274.63|    1005|      92|   277.08|    45|     10000|      3.06|     305|   null| 0.0|    0|\n",
      "|1603569600|277.94|    275.11|    1006|      93|   276.96|    48|     10000|       2.1|     300|   null| 0.0|    0|\n",
      "|1603573200|277.85|    275.18|    1006|      93|   276.84|    51|     10000|      1.84|     291|   null| 0.0|    0|\n",
      "|1603576800|277.91|    275.43|    1007|      92|   276.76|    53|     10000|      1.55|     288|   null| 0.0|    0|\n",
      "|1603580400|277.71|    275.72|    1008|      92|   276.54|    53|     10000|      0.79|     283|   null| 0.0|    0|\n",
      "|1603584000|277.29|    275.06|    1008|      92|   276.23|    49|     10000|      1.03|     239|   null| 0.0|    0|\n",
      "|1603587600|277.31|    274.86|    1008|      93|   276.28|   100|     10000|      1.39|     207|   null| 0.0|    0|\n",
      "|1603591200|277.26|     274.7|    1008|      92|   276.22|    97|     10000|       1.5|     184|   null| 0.0|    0|\n",
      "|1603594800| 277.3|    274.55|    1008|      92|   276.23|    69|     10000|      1.77|     167|   null| 0.0|    0|\n",
      "|1603598400|277.82|    274.89|    1008|      93|    276.8|    76|     10000|      2.21|     161|   null| 0.0|    0|\n",
      "|1603602000|279.06|     275.8|    1008|      93|   278.11|    81|     10000|      3.01|     169|   null| 0.0|    0|\n",
      "|1603605600|280.06|    276.92|    1007|      94|   279.17|    84|     10000|      3.18|     166|   null| 0.0|    0|\n",
      "|1603609200|280.97|    277.47|    1007|      91|   279.72|   100|     10000|      3.83|     173|   null| 0.0|    0|\n",
      "|1603612800|282.02|    278.06|    1007|      85|   279.76|   100|     10000|       4.5|     176|   null| 0.0|    0|\n",
      "|1603616400|283.05|    278.91|    1007|      83|   280.33|   100|     10000|      4.97|     176|   null| 0.0|    0|\n",
      "+----------+------+----------+--------+--------+---------+------+----------+----------+--------+-------+----+-----+\n",
      "only showing top 20 rows\n",
      "\n"
     ]
    }
   ],
   "source": [
    "df.show()"
   ]
  },
  {
   "cell_type": "code",
   "execution_count": 19,
   "metadata": {},
   "outputs": [],
   "source": [
    "feature_columns = df.columns[1:10] \n",
    "assembler = VectorAssembler(inputCols=feature_columns,outputCol=\"features\")"
   ]
  },
  {
   "cell_type": "code",
   "execution_count": 20,
   "metadata": {},
   "outputs": [],
   "source": [
    "df2 = assembler.transform(df)"
   ]
  },
  {
   "cell_type": "code",
   "execution_count": 21,
   "metadata": {},
   "outputs": [
    {
     "name": "stdout",
     "output_type": "stream",
     "text": [
      "Test set accuracy = 0.6944444444444444\n"
     ]
    }
   ],
   "source": [
    "\n",
    "# Split the data into train and test\n",
    "splits = df2.randomSplit([0.6, 0.4], 1234)\n",
    "train = splits[0]\n",
    "test = splits[1]\n",
    "\n",
    "# specify layers for the neural network:\n",
    "# input layer of size 4 (features), two intermediate of size 5 and 4\n",
    "# and output of size 3 (classes)\n",
    "layers = [9, 5, 4, 3]\n",
    "\n",
    "# create the trainer and set its parameters\n",
    "trainer = MultilayerPerceptronClassifier(labelCol=\"label\", featuresCol=\"features\", maxIter=100, layers=layers, blockSize=128, seed=1234)\n",
    "\n",
    "# train the model\n",
    "model = trainer.fit(train)\n",
    "\n",
    "# compute accuracy on the test set\n",
    "result = model.transform(test)\n",
    "predictionAndLabels = result.select(\"prediction\", \"label\")\n",
    "evaluator = MulticlassClassificationEvaluator(metricName=\"accuracy\")\n",
    "print(\"Test set accuracy = \" + str(evaluator.evaluate(predictionAndLabels)))"
   ]
  }
 ],
 "metadata": {
  "kernelspec": {
   "display_name": "Python 3",
   "language": "python",
   "name": "python3"
  },
  "language_info": {
   "codemirror_mode": {
    "name": "ipython",
    "version": 3
   },
   "file_extension": ".py",
   "mimetype": "text/x-python",
   "name": "python",
   "nbconvert_exporter": "python",
   "pygments_lexer": "ipython3",
   "version": "3.6.9"
  }
 },
 "nbformat": 4,
 "nbformat_minor": 4
}
