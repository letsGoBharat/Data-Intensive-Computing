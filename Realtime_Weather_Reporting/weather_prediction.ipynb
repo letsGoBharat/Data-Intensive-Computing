{
 "cells": [
  {
   "cell_type": "code",
   "execution_count": 22,
   "metadata": {},
   "outputs": [],
   "source": [
    "import findspark\n",
    "from pyspark.sql import SparkSession\n",
    "from pyspark.sql.types import IntegerType\n",
    "from pyspark.sql.types import FloatType\n",
    "from pyspark.ml.feature import VectorAssembler\n",
    "import pandas as pd\n",
    "from pyspark.ml.classification import MultilayerPerceptronClassifier\n",
    "from pyspark.ml.evaluation import MulticlassClassificationEvaluator\n"
   ]
  },
  {
   "cell_type": "code",
   "execution_count": 23,
   "metadata": {},
   "outputs": [],
   "source": [
    "spark = SparkSession.builder.appName('weather').getOrCreate()"
   ]
  },
  {
   "cell_type": "code",
   "execution_count": 24,
   "metadata": {},
   "outputs": [],
   "source": [
    "df = spark.read.csv('weather-data.csv')"
   ]
  },
  {
   "cell_type": "code",
   "execution_count": 25,
   "metadata": {},
   "outputs": [],
   "source": [
    "df = df.withColumnRenamed('_c0', \"timestamp\")\\\n",
    "        .withColumnRenamed('_c1', \"temp\")\\\n",
    "        .withColumnRenamed('_c2', \"feels_like\")\\\n",
    "        .withColumnRenamed('_c3', \"pressure\")\\\n",
    "        .withColumnRenamed('_c4', \"humidity\")\\\n",
    "        .withColumnRenamed('_c5', \"dew_point\")\\\n",
    "        .withColumnRenamed('_c6', \"clouds\")\\\n",
    "        .withColumnRenamed('_c7', \"visibility\")\\\n",
    "        .withColumnRenamed('_c8', \"wind_speed\")\\\n",
    "        .withColumnRenamed('_c9', \"wind_deg\")\\\n",
    "        .withColumnRenamed('_c10', \"weather\")\\\n",
    "        .withColumnRenamed('_c11', \"pop\")"
   ]
  },
  {
   "cell_type": "code",
   "execution_count": 26,
   "metadata": {},
   "outputs": [
    {
     "name": "stdout",
     "output_type": "stream",
     "text": [
      "+----------+------+----------+--------+--------+---------+------+----------+----------+--------+--------------------+----+\n",
      "| timestamp|  temp|feels_like|pressure|humidity|dew_point|clouds|visibility|wind_speed|wind_deg|             weather| pop|\n",
      "+----------+------+----------+--------+--------+---------+------+----------+----------+--------+--------------------+----+\n",
      "|1603429200|280.44|    277.22|     995|      93|   279.38|    75|     10000|      3.36|     264|[{'id': 500, 'mai...| 0.7|\n",
      "|1603432800|280.97|    278.47|     996|      91|   279.59|    71|     10000|       2.4|     311|[{'id': 500, 'mai...|0.74|\n",
      "|1603436400| 280.7|     277.5|     997|      89|   279.01|    95|     10000|      3.22|       9|[{'id': 804, 'mai...|0.74|\n",
      "|1603440000|   280|    276.14|     999|      86|   277.82|    96|     10000|      3.81|      10|[{'id': 804, 'mai...|0.55|\n",
      "|1603443600|279.62|    275.77|    1000|      82|   276.77|    97|     10000|      3.52|       8|[{'id': 804, 'mai...|0.54|\n",
      "|1603447200|279.39|    275.74|    1001|      79|   276.11|    96|     10000|      3.03|     358|[{'id': 804, 'mai...|0.54|\n",
      "|1603450800|279.36|    276.06|    1002|      77|   275.73|    93|     10000|      2.44|     347|[{'id': 804, 'mai...|0.54|\n",
      "|1603454400|279.83|    276.53|    1002|      75|   275.73|    86|     10000|      2.46|     329|[{'id': 804, 'mai...|0.46|\n",
      "|1603458000|279.68|    276.53|    1003|      75|   275.68|    71|     10000|      2.21|     324|[{'id': 803, 'mai...|0.08|\n",
      "|1603461600|279.41|    276.28|    1003|      77|   275.71|    71|     10000|      2.21|     320|[{'id': 803, 'mai...|0.05|\n",
      "|1603465200|278.63|    275.96|    1004|      81|   275.67|    69|     10000|      1.54|     323|[{'id': 803, 'mai...|   0|\n",
      "|1603468800|277.79|    275.54|    1004|      84|   275.44|    57|     10000|      0.87|     311|[{'id': 803, 'mai...|   0|\n",
      "|1603472400|277.47|    275.51|    1005|      85|   275.32|    49|     10000|      0.42|     274|[{'id': 802, 'mai...|   0|\n",
      "|1603476000|277.24|    275.12|    1005|      86|   275.26|    47|     10000|      0.63|     216|[{'id': 802, 'mai...|   0|\n",
      "|1603479600|277.08|    274.75|    1005|      88|   275.28|    14|     10000|      0.97|     214|[{'id': 801, 'mai...|0.05|\n",
      "|1603483200|277.43|    274.77|    1005|      87|    275.6|    27|     10000|      1.48|     213|[{'id': 802, 'mai...|0.08|\n",
      "|1603486800|277.89|    275.49|    1005|      88|   276.14|    45|     10000|      1.26|     204|[{'id': 802, 'mai...|0.05|\n",
      "|1603490400| 278.6|    276.43|    1005|      88|   276.87|    58|     10000|      1.12|     168|[{'id': 803, 'mai...|   0|\n",
      "|1603494000|278.16|    275.49|    1005|      92|   277.05|    56|     10000|      1.88|     181|[{'id': 803, 'mai...|   0|\n",
      "|1603497600|278.09|    275.11|    1004|      93|   277.11|    61|     10000|      2.35|     214|[{'id': 803, 'mai...|   0|\n",
      "+----------+------+----------+--------+--------+---------+------+----------+----------+--------+--------------------+----+\n",
      "only showing top 20 rows\n",
      "\n"
     ]
    }
   ],
   "source": [
    "df.show()"
   ]
  },
  {
   "cell_type": "code",
   "execution_count": 27,
   "metadata": {},
   "outputs": [],
   "source": [
    "df = df.withColumn(\"temp\", df[\"temp\"].cast(FloatType()))\n",
    "df = df.withColumn(\"feels_like\", df[\"feels_like\"].cast(FloatType()))\n",
    "df = df.withColumn(\"pressure\", df[\"pressure\"].cast(IntegerType()))\n",
    "df = df.withColumn(\"humidity\", df[\"humidity\"].cast(IntegerType()))\n",
    "df = df.withColumn(\"dew_point\", df[\"dew_point\"].cast(FloatType()))\n",
    "df = df.withColumn(\"clouds\", df[\"clouds\"].cast(IntegerType()))\n",
    "df = df.withColumn(\"visibility\", df[\"visibility\"].cast(IntegerType()))\n",
    "df = df.withColumn(\"wind_speed\", df[\"wind_speed\"].cast(FloatType()))\n",
    "df = df.withColumn(\"wind_deg\", df[\"wind_deg\"].cast(IntegerType()))\n",
    "df = df.withColumn(\"weather\", df[\"weather\"].cast(IntegerType()))\n",
    "df = df.withColumn(\"pop\", df[\"pop\"].cast(IntegerType()))"
   ]
  },
  {
   "cell_type": "code",
   "execution_count": 28,
   "metadata": {},
   "outputs": [
    {
     "name": "stdout",
     "output_type": "stream",
     "text": [
      "root\n",
      " |-- timestamp: string (nullable = true)\n",
      " |-- temp: float (nullable = true)\n",
      " |-- feels_like: float (nullable = true)\n",
      " |-- pressure: integer (nullable = true)\n",
      " |-- humidity: integer (nullable = true)\n",
      " |-- dew_point: float (nullable = true)\n",
      " |-- clouds: integer (nullable = true)\n",
      " |-- visibility: integer (nullable = true)\n",
      " |-- wind_speed: float (nullable = true)\n",
      " |-- wind_deg: integer (nullable = true)\n",
      " |-- weather: integer (nullable = true)\n",
      " |-- pop: integer (nullable = true)\n",
      "\n"
     ]
    }
   ],
   "source": [
    "df.printSchema()"
   ]
  },
  {
   "cell_type": "code",
   "execution_count": 29,
   "metadata": {},
   "outputs": [],
   "source": [
    "# dataset = pd.read_csv(\"weather-data.csv\")\n",
    "# dataset.head()"
   ]
  },
  {
   "cell_type": "markdown",
   "metadata": {},
   "source": [
    "# How does the temperature feel given the features pressure, humidity, dew_point, clouds, visibility and wind_speed?"
   ]
  },
  {
   "cell_type": "code",
   "execution_count": 30,
   "metadata": {},
   "outputs": [],
   "source": [
    "feature_columns = df.columns[3:9] \n",
    "feature_columns"
   ]
  },
  {
   "cell_type": "code",
   "execution_count": 33,
   "metadata": {},
   "outputs": [],
   "source": [
    "assembler = VectorAssembler(inputCols=feature_columns,outputCol=\"features\")"
   ]
  },
  {
   "cell_type": "code",
   "execution_count": 34,
   "metadata": {},
   "outputs": [
    {
     "name": "stdout",
     "output_type": "stream",
     "text": [
      "+------------------+\n",
      "|        prediction|\n",
      "+------------------+\n",
      "| 276.0526722359368|\n",
      "| 276.4670294882255|\n",
      "| 278.5277025033061|\n",
      "|273.48842957897335|\n",
      "|273.62654866306957|\n",
      "|275.17025985208903|\n",
      "|275.38896011088434|\n",
      "|277.34299589241306|\n",
      "| 273.3461984068658|\n",
      "| 275.2642325646095|\n",
      "| 275.3563353719595|\n",
      "|274.74749769427854|\n",
      "| 274.8593396831862|\n",
      "| 274.9724613470303|\n",
      "| 274.9724613470303|\n",
      "|274.99546948540336|\n",
      "|274.99546948540336|\n",
      "| 275.0069911180543|\n",
      "| 275.6772703775378|\n",
      "| 275.6772703775378|\n",
      "+------------------+\n",
      "only showing top 20 rows\n",
      "\n"
     ]
    }
   ],
   "source": [
    "data_2 = assembler.transform(df)\n",
    "# train/test split\n",
    "train, test = data_2.randomSplit([0.7, 0.3])\n",
    "# define the model\n",
    "from pyspark.ml.regression import LinearRegression\n",
    "algo = LinearRegression(featuresCol=\"features\", labelCol=\"feels_like\")\n",
    "# train the model\n",
    "model = algo.fit(train)\n",
    "# evaluation\n",
    "evaluation_summary = model.evaluate(test)\n",
    "# predicting values\n",
    "predictions = model.transform(test)\n",
    "predictions.select(predictions.columns[13:]).show() # here I am filtering out some columns just for the figure to fit\n"
   ]
  },
  {
   "cell_type": "code",
   "execution_count": 35,
   "metadata": {},
   "outputs": [
    {
     "data": {
      "text/plain": [
       "0.15809777010106355"
      ]
     },
     "execution_count": 35,
     "metadata": {},
     "output_type": "execute_result"
    }
   ],
   "source": [
    "evaluation_summary.meanAbsoluteError"
   ]
  },
  {
   "cell_type": "code",
   "execution_count": 36,
   "metadata": {},
   "outputs": [
    {
     "data": {
      "text/plain": [
       "0.2112907204408863"
      ]
     },
     "execution_count": 36,
     "metadata": {},
     "output_type": "execute_result"
    }
   ],
   "source": [
    "evaluation_summary.rootMeanSquaredError"
   ]
  },
  {
   "cell_type": "code",
   "execution_count": 39,
   "metadata": {
    "scrolled": true
   },
   "outputs": [
    {
     "data": {
      "text/plain": [
       "0.9917875859691913"
      ]
     },
     "execution_count": 39,
     "metadata": {},
     "output_type": "execute_result"
    }
   ],
   "source": [
    "evaluation_summary.r2"
   ]
  },
  {
   "cell_type": "markdown",
   "metadata": {},
   "source": [
    "# Multilayer Perceptron Classifier"
   ]
  },
  {
   "cell_type": "code",
   "execution_count": null,
   "metadata": {},
   "outputs": [],
   "source": [
    "feature_columns = df.columns[3:9] \n",
    "assembler = VectorAssembler(inputCols=feature_columns,outputCol=\"features\")\n",
    "\n",
    "\n",
    "# Split the data into train and test\n",
    "splits = data_2.randomSplit([0.6, 0.4], 1234)\n",
    "train = splits[0]\n",
    "test = splits[1]\n",
    "\n",
    "# specify layers for the neural network:\n",
    "# input layer of size 4 (features), two intermediate of size 5 and 4\n",
    "# and output of size 3 (classes)\n",
    "layers = [4, 5, 4, 2]\n",
    "\n",
    "# create the trainer and set its parameters\n",
    "trainer = MultilayerPerceptronClassifier(maxIter=100, layers=layers, blockSize=128, seed=1234, labelCol=\"feels_like\")\n",
    "\n",
    "# train the model\n",
    "model = trainer.fit(train)\n",
    "\n",
    "# compute accuracy on the test set\n",
    "result = model.transform(test)\n",
    "predictionAndLabels = result.select(\"prediction\", \"feels_like\")\n",
    "evaluator = MulticlassClassificationEvaluator(metricName=\"accuracy\")\n",
    "print(\"Test set accuracy = \" + str(evaluator.evaluate(predictionAndLabels)))"
   ]
  },
  {
   "cell_type": "code",
   "execution_count": null,
   "metadata": {},
   "outputs": [],
   "source": []
  },
  {
   "cell_type": "markdown",
   "metadata": {},
   "source": [
    "# TimeSeries Analysis"
   ]
  },
  {
   "cell_type": "code",
   "execution_count": null,
   "metadata": {},
   "outputs": [],
   "source": []
  },
  {
   "cell_type": "code",
   "execution_count": null,
   "metadata": {},
   "outputs": [],
   "source": []
  },
  {
   "cell_type": "code",
   "execution_count": null,
   "metadata": {},
   "outputs": [],
   "source": []
  },
  {
   "cell_type": "code",
   "execution_count": null,
   "metadata": {},
   "outputs": [],
   "source": []
  },
  {
   "cell_type": "code",
   "execution_count": null,
   "metadata": {},
   "outputs": [],
   "source": []
  },
  {
   "cell_type": "code",
   "execution_count": 38,
   "metadata": {},
   "outputs": [],
   "source": [
    "# maybe we could create our own class labels like this\n",
    "# dataset['windy?'] = pd.cut(dataset['wind_speed'],\n",
    "#                    bins=[0, 1.69,2.3,3.17, 5],\n",
    "#                    labels=['very low wind', 'low wind', 'high wind', 'very high wind'])"
   ]
  }
 ],
 "metadata": {
  "kernelspec": {
   "display_name": "Python 3",
   "language": "python",
   "name": "python3"
  },
  "language_info": {
   "codemirror_mode": {
    "name": "ipython",
    "version": 3
   },
   "file_extension": ".py",
   "mimetype": "text/x-python",
   "name": "python",
   "nbconvert_exporter": "python",
   "pygments_lexer": "ipython3",
   "version": "3.6.9"
  }
 },
 "nbformat": 4,
 "nbformat_minor": 4
}
